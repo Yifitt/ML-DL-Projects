{
  "nbformat": 4,
  "nbformat_minor": 0,
  "metadata": {
    "colab": {
      "provenance": []
    },
    "kernelspec": {
      "name": "python3",
      "display_name": "Python 3"
    },
    "language_info": {
      "name": "python"
    }
  },
  "cells": [
    {
      "cell_type": "code",
      "execution_count": 4,
      "metadata": {
        "id": "IimPmbXl03HK"
      },
      "outputs": [],
      "source": [
        "from sklearn.model_selection import train_test_split\n",
        "import numpy as np\n",
        "import matplotlib.pyplot as plt"
      ]
    },
    {
      "cell_type": "code",
      "source": [
        "def sigmoid(z):\n",
        "  return 1.0/(1.0+np.exp(-z))"
      ],
      "metadata": {
        "id": "jItMnpScJ6IP"
      },
      "execution_count": 5,
      "outputs": []
    },
    {
      "cell_type": "code",
      "source": [
        "def calculate_gradient(theta,X,y):\n",
        "  m = y.size # number of instances\n",
        "  return (X.T@(sigmoid(X @ theta)-y))/m"
      ],
      "metadata": {
        "id": "a8OmBsFCPmO_"
      },
      "execution_count": 41,
      "outputs": []
    },
    {
      "cell_type": "code",
      "source": [
        "def gradient_descent(X,y,lr=0.1,num_iter=100,tol=1e-7):\n",
        "\n",
        "  X_b = np.c_[np.ones((X.shape[0],1)),X]\n",
        "  theta = np.zeros(X_b.shape[1])\n",
        "\n",
        "  for i in range(num_iter):\n",
        "    grad = calculate_gradient(theta,X_b,y)\n",
        "    theta -= lr * grad\n",
        "\n",
        "    if np.linalg.norm(grad) < tol:\n",
        "      print(\"Stopping\")\n",
        "      break\n",
        "\n",
        "  return theta"
      ],
      "metadata": {
        "id": "Rg74bIwUKOQA"
      },
      "execution_count": 24,
      "outputs": []
    },
    {
      "cell_type": "code",
      "source": [
        "def predict_proba(X,theta):\n",
        "  X_b = np.c_[np.ones((X.shape[0],1)),X]\n",
        "  return sigmoid(X_b @ theta)"
      ],
      "metadata": {
        "id": "z02TJm2_RGGo"
      },
      "execution_count": 8,
      "outputs": []
    },
    {
      "cell_type": "code",
      "source": [
        "def predict(X,theta,threshold=0.5):\n",
        "  return (predict_proba(X,theta)>=threshold).astype(int)"
      ],
      "metadata": {
        "id": "39jjAdo_RSBz"
      },
      "execution_count": 10,
      "outputs": []
    },
    {
      "cell_type": "code",
      "source": [
        "from sklearn.datasets import load_breast_cancer\n",
        "from sklearn.preprocessing import StandardScaler\n",
        "from sklearn.model_selection import train_test_split\n",
        "\n",
        "std = StandardScaler()\n",
        "\n",
        "X,y= load_breast_cancer(return_X_y=True)\n",
        "\n",
        "\n",
        "X_train,X_test,y_train,y_test = train_test_split(X,y,test_size=0.2,stratify=y,random_state=42)"
      ],
      "metadata": {
        "id": "BmugnfbKRf3U"
      },
      "execution_count": 15,
      "outputs": []
    },
    {
      "cell_type": "code",
      "source": [
        "X_train_s,X_test_s = std.fit_transform(X_train),std.transform(X_test)"
      ],
      "metadata": {
        "id": "RhfIaXfXSNI-"
      },
      "execution_count": 16,
      "outputs": []
    },
    {
      "cell_type": "code",
      "source": [
        "from sklearn.metrics import accuracy_score\n",
        "\n",
        "theta_hat = gradient_descent(X_train_s,y_train,lr=0.1)\n",
        "\n",
        "y_pred_train = predict(X_train_s,theta_hat)\n",
        "y_pred_test = predict(X_test_s,theta_hat)"
      ],
      "metadata": {
        "id": "Iy3pBcOKR8XY"
      },
      "execution_count": 42,
      "outputs": []
    },
    {
      "cell_type": "code",
      "source": [
        "train_acc = accuracy_score(y_train,y_pred_train)\n",
        "test_acc = accuracy_score(y_test,y_pred_test)"
      ],
      "metadata": {
        "id": "O8GPoeEHTd4k"
      },
      "execution_count": 43,
      "outputs": []
    },
    {
      "cell_type": "code",
      "source": [
        "train_acc,test_acc"
      ],
      "metadata": {
        "colab": {
          "base_uri": "https://localhost:8080/"
        },
        "id": "-B2pc1HhTlwi",
        "outputId": "30efa222-db94-4a7c-b02c-b732caf6f52e"
      },
      "execution_count": 44,
      "outputs": [
        {
          "output_type": "execute_result",
          "data": {
            "text/plain": [
              "(0.9802197802197802, 0.9736842105263158)"
            ]
          },
          "metadata": {},
          "execution_count": 44
        }
      ]
    }
  ]
}