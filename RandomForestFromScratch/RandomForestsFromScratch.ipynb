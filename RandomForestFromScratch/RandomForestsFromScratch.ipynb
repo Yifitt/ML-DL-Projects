{
  "nbformat": 4,
  "nbformat_minor": 0,
  "metadata": {
    "colab": {
      "provenance": []
    },
    "kernelspec": {
      "name": "python3",
      "display_name": "Python 3"
    },
    "language_info": {
      "name": "python"
    }
  },
  "cells": [
    {
      "cell_type": "markdown",
      "source": [
        "#Decision Tree\n"
      ],
      "metadata": {
        "id": "Ru5q9V8ZHdN3"
      }
    },
    {
      "cell_type": "code",
      "source": [
        "import numpy as np\n",
        "import matplotlib.pyplot as plt\n",
        "from collections import Counter"
      ],
      "metadata": {
        "id": "nllr6KcaHbfX"
      },
      "execution_count": 1,
      "outputs": []
    },
    {
      "cell_type": "code",
      "execution_count": 2,
      "metadata": {
        "id": "pGRuuzHoHR3n"
      },
      "outputs": [],
      "source": [
        "class Node:\n",
        "  def __init__(self,feature= None,threshold=None,left=None,right=None,*,value=None):\n",
        "    self.feature = feature\n",
        "    self.threshold = threshold\n",
        "    self.left = left\n",
        "    self.right = right\n",
        "    self.value = value\n",
        "\n",
        "\n",
        "  def is_leaf_node(self):\n",
        "    return self.value is not None"
      ]
    },
    {
      "cell_type": "code",
      "source": [
        "class DecisionTree:\n",
        "  def __init__(self,min_samples_split=2,max_depth=100,n_features=None,criterion = 'entropy'):\n",
        "\n",
        "    self.min_samples_split = min_samples_split\n",
        "    self.max_depth = max_depth\n",
        "    self.n_features = n_features\n",
        "    self.root = None\n",
        "    self.criterion = criterion\n",
        "\n",
        "  def fit(self,X,y):\n",
        "    self.n_features = X.shape[1] if not self.n_features else min(X.shape[1],self.n_features)\n",
        "    self.root = self._grow_tree(X,y)\n",
        "\n",
        "  def _grow_tree(self,X,y,depth=0):\n",
        "    n_samples,n_feats = X.shape\n",
        "    n_labels = len(np.unique(y))\n",
        "\n",
        "    if(depth>=self.max_depth or n_labels==1 or n_samples<self.min_samples_split):\n",
        "      leaf_value = self._most_common_label(y)\n",
        "      return Node(value=leaf_value)\n",
        "\n",
        "    feat_idx = np.random.choice(n_feats,self.n_features,replace = False)\n",
        "\n",
        "    best_feature,best_thresh= self._best_split(X,y,feat_idx)\n",
        "\n",
        "    left_idxs,right_idxs = self._split(X[:,best_feature],best_thresh)\n",
        "\n",
        "    left = self._grow_tree(X[left_idxs,:],y[left_idxs],depth+1)\n",
        "    right = self._grow_tree(X[right_idxs,:],y[right_idxs],depth+1)\n",
        "\n",
        "    return Node(best_feature,best_thresh,left,right)\n",
        "\n",
        "  def _most_common_label(self,y):\n",
        "    counter = Counter(y)\n",
        "    value = counter.most_common(1)[0][0]\n",
        "    return value\n",
        "\n",
        "  def _best_split(self,X,y,feat_idxs):\n",
        "    best_gain = -1\n",
        "    split_idx,split_threshold = None,None\n",
        "\n",
        "    for feat_idx in feat_idxs:\n",
        "      X_column = X[:,feat_idx]\n",
        "      thresholds = np.unique(X_column)\n",
        "      for threshold in thresholds:\n",
        "        gain =  self._information_gain(y,X_column,threshold)\n",
        "\n",
        "        if gain> best_gain:\n",
        "          best_gain = gain\n",
        "          split_idx = feat_idx\n",
        "          split_threshold = threshold\n",
        "\n",
        "    return split_idx,split_threshold\n",
        "\n",
        "  def _information_gain(self,y,X_column,threshold):\n",
        "\n",
        "\n",
        "    left_idx,right_idx = self._split(X_column,threshold)\n",
        "\n",
        "    if len(left_idx) == 0 or len(right_idx) == 0:\n",
        "      return 0\n",
        "\n",
        "\n",
        "    n = len(y)\n",
        "\n",
        "    n_l,n_r = len(left_idx),len(right_idx)\n",
        "\n",
        "\n",
        "    if self.criterion == 'entropy':\n",
        "        parent = self._entropy(y)\n",
        "        left = self._entropy(y[left_idx])\n",
        "        right = self._entropy(y[right_idx])\n",
        "    elif self.criterion == 'gini':\n",
        "        parent = self._gini(y)\n",
        "        left = self._gini(y[left_idx])\n",
        "        right = self._gini(y[right_idx])\n",
        "    else:\n",
        "        raise ValueError(\"criterion must be 'entropy' or 'gini'\")\n",
        "\n",
        "    child_impurity = (n_l/n)*left + (n_r/n)*right\n",
        "    return parent - child_impurity\n",
        "\n",
        "    return parent_entropy - child_entropy\n",
        "\n",
        "  def _entropy(self,y):\n",
        "    hist = np.bincount(y)\n",
        "    ps = hist/len(y)\n",
        "\n",
        "    return -np.sum([p*np.log(p) for p in ps if p>0])\n",
        "\n",
        "\n",
        "  def _split(self,X_column,split_thresh):\n",
        "    left_idxs = np.argwhere(X_column<=split_thresh).flatten()\n",
        "\n",
        "    right_idxs = np.argwhere(X_column>split_thresh).flatten()\n",
        "\n",
        "    return left_idxs,right_idxs\n",
        "\n",
        "  def _gini(self, y):\n",
        "    hist = np.bincount(y)\n",
        "    ps = hist / len(y)\n",
        "    return 1 - np.sum(ps**2)\n",
        "\n",
        "  def predict(self,X):\n",
        "    return np.array([self._traverse_tree(x,self.root) for x in X])\n",
        "\n",
        "  def _traverse_tree(self,x,node):\n",
        "    if node.is_leaf_node():\n",
        "      return node.value\n",
        "\n",
        "    if x[node.feature] <= node.threshold:\n",
        "      return self._traverse_tree(x,node.left)\n",
        "    return self._traverse_tree(x,node.right)\n",
        "\n"
      ],
      "metadata": {
        "id": "TaW6ywbwHZSA"
      },
      "execution_count": 3,
      "outputs": []
    },
    {
      "cell_type": "markdown",
      "source": [
        "# RandomForest\n"
      ],
      "metadata": {
        "id": "XkJFrYSNHgA3"
      }
    },
    {
      "cell_type": "code",
      "source": [
        "from re import T\n",
        "class RandomForest:\n",
        "  def __init__(self,n_trees=10,max_depth=10,min_samples_split=2,n_features= None):\n",
        "    self.n_trees = n_trees\n",
        "    self.max_depth = max_depth\n",
        "    self.min_samples_split = min_samples_split\n",
        "    self.n_features = n_features\n",
        "    self.trees = []\n",
        "\n",
        "  def fit(self,X,y):\n",
        "    self.trees = []\n",
        "\n",
        "    for _ in range(self.n_trees):\n",
        "      tree =DecisionTree(max_depth=self.max_depth,min_samples_split=self.min_samples_split,n_features = self.n_features)\n",
        "\n",
        "      X_sample,y_sample = self._boostrap_samples(X,y)\n",
        "\n",
        "      tree.fit(X_sample,y_sample)\n",
        "\n",
        "      self.trees.append(tree)\n",
        "\n",
        "\n",
        "  def _boostrap_samples(self,X,y):\n",
        "    n_samples = X.shape[0]\n",
        "    idxs = np.random.choice(n_samples,n_samples,replace=True)\n",
        "    return X[idxs],y[idxs]\n",
        "\n",
        "\n",
        "  def _most_common_label(self,y):\n",
        "    counter = Counter(y)\n",
        "    value = counter.most_common(1)[0][0]\n",
        "    return value\n",
        "\n",
        "  def predict(self,X):\n",
        "   preds =  np.array([tree.predict(X) for tree in self.trees])\n",
        "\n",
        "   tree_preds = np.swapaxes(preds,0,1)\n",
        "\n",
        "   return np.array([self._most_common_label(pred) for pred in tree_preds])"
      ],
      "metadata": {
        "id": "begTs6eMHj2i"
      },
      "execution_count": 4,
      "outputs": []
    },
    {
      "cell_type": "code",
      "source": [
        "from sklearn.datasets import load_breast_cancer\n",
        "from sklearn.model_selection import train_test_split\n",
        "from sklearn.metrics import accuracy_score\n",
        "\n",
        "X,y = load_breast_cancer(return_X_y=True)\n",
        "\n",
        "X_train,X_test,y_train,y_test = train_test_split(X,y,random_state=42,stratify = y,test_size=0.2)\n",
        "\n",
        "\n",
        "clf = RandomForest(n_trees=20)\n",
        "\n",
        "clf.fit(X_train,y_train)\n",
        "\n",
        "y_pred = clf.predict(X_test)\n",
        "\n",
        "print(accuracy_score(y_test,y_pred))"
      ],
      "metadata": {
        "colab": {
          "base_uri": "https://localhost:8080/"
        },
        "id": "7_X6APszJIQT",
        "outputId": "b9722478-5d9d-45ec-aae3-066c3a76b2a0"
      },
      "execution_count": 5,
      "outputs": [
        {
          "output_type": "stream",
          "name": "stdout",
          "text": [
            "0.9298245614035088\n"
          ]
        }
      ]
    }
  ]
}