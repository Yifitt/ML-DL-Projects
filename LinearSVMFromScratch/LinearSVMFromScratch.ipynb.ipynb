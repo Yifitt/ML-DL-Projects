{
  "nbformat": 4,
  "nbformat_minor": 0,
  "metadata": {
    "colab": {
      "provenance": []
    },
    "kernelspec": {
      "name": "python3",
      "display_name": "Python 3"
    },
    "language_info": {
      "name": "python"
    }
  },
  "cells": [
    {
      "cell_type": "code",
      "execution_count": 3,
      "metadata": {
        "id": "NCdKQjPYbAlC"
      },
      "outputs": [],
      "source": [
        "from sklearn.datasets import load_breast_cancer\n",
        "from sklearn.model_selection import train_test_split\n",
        "import matplotlib.pyplot as plt\n",
        "import numpy as np\n"
      ]
    },
    {
      "cell_type": "code",
      "source": [
        "class SVM:\n",
        "  def __init__(self,lr=0.01,lambda_param = 0.01,epochs = 1000):\n",
        "    self.lr = lr\n",
        "    self.lambda_param = lambda_param\n",
        "    self.epochs = epochs\n",
        "    self.w = None\n",
        "    self.b = None\n",
        "\n",
        "  def fit(self,X,y):\n",
        "    n_samples,n_features = X.shape\n",
        "\n",
        "    y_ = np.where(y<=0,-1,1)\n",
        "\n",
        "    self.w = np.zeros(n_features)\n",
        "    self.b = 0\n",
        "\n",
        "    for _ in range(self.epochs):\n",
        "      for idx,x_i in enumerate(X):\n",
        "        condition = y_[idx] * (np.dot(x_i,self.w)+self.b) >=1\n",
        "        if condition:\n",
        "          self.w -= self.lr*(2*self.lambda_param*self.w)\n",
        "        else:\n",
        "          self.w -= self.lr*(2*self.lambda_param*self.w-np.dot(x_i,y_[idx]))\n",
        "          self.b += self.lr*y_[idx]\n",
        "\n",
        "\n",
        "  def predict(self,X):\n",
        "    approx = np.dot(X,self.w) + self.b\n",
        "    return np.sign(approx)"
      ],
      "metadata": {
        "id": "rQbal5RqcpjT"
      },
      "execution_count": 1,
      "outputs": []
    },
    {
      "cell_type": "code",
      "source": [
        "from sklearn.preprocessing import StandardScaler\n",
        "\n",
        "X,y = load_breast_cancer(return_X_y=True)\n",
        "\n",
        "X_train,X_valid,y_train,y_valid = train_test_split(X,y,test_size = 0.2,random_state = 42,stratify=y)\n",
        "\n",
        "scaler = StandardScaler()\n",
        "X_train = scaler.fit_transform(X_train)\n",
        "X_valid = scaler.transform(X_valid)\n",
        "\n",
        "\n",
        "clf = SVM(epochs =  2000,lr = 0.0001,lambda_param=0.01)\n",
        "\n",
        "clf.fit(X_train,y_train)"
      ],
      "metadata": {
        "id": "CcoL2LcOeFDv"
      },
      "execution_count": 33,
      "outputs": []
    },
    {
      "cell_type": "code",
      "source": [
        "preds = clf.predict(X_valid)"
      ],
      "metadata": {
        "id": "tnKmONTfeyYK"
      },
      "execution_count": 34,
      "outputs": []
    },
    {
      "cell_type": "code",
      "source": [
        "from sklearn.metrics import accuracy_score\n",
        "y_valid_transformed = np.where(y_valid==0, -1, 1)\n",
        "\n",
        "print(accuracy_score(y_valid,y_valid_transformed))"
      ],
      "metadata": {
        "colab": {
          "base_uri": "https://localhost:8080/"
        },
        "id": "3z8pdOq7e2gJ",
        "outputId": "2f9a258b-7483-4682-e6f9-d7e8b79440e9"
      },
      "execution_count": 35,
      "outputs": [
        {
          "output_type": "stream",
          "name": "stdout",
          "text": [
            "0.631578947368421\n"
          ]
        }
      ]
    }
  ]
}