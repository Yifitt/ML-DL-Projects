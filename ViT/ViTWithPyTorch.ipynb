{
  "nbformat": 4,
  "nbformat_minor": 0,
  "metadata": {
    "colab": {
      "provenance": [],
      "gpuType": "A100"
    },
    "kernelspec": {
      "name": "python3",
      "display_name": "Python 3"
    },
    "language_info": {
      "name": "python"
    },
    "accelerator": "GPU"
  },
  "cells": [
    {
      "cell_type": "code",
      "execution_count": 1,
      "metadata": {
        "id": "XoYuCy-mheDe"
      },
      "outputs": [],
      "source": [
        "import torch\n",
        "import torchvision\n",
        "import torchvision.transforms as transforms\n",
        "import matplotlib.pyplot as plt\n",
        "import numpy as np\n",
        "import torch.nn as nn\n",
        "import torch.utils.data as dataloader"
      ]
    },
    {
      "cell_type": "code",
      "source": [
        "batch_size = 64\n",
        "img_size = 28\n",
        "patch_size = 7\n",
        "num_channels = 1\n",
        "num_patches = (img_size // patch_size) ** 2\n",
        "\n",
        "embed_dim = 16\n",
        "mlp_dim = 16\n",
        "\n",
        "mlp_nodes = 64\n",
        "\n",
        "num_classes = 10\n",
        "\n",
        "transformer_blocks = 4\n",
        "attention_heads = 4"
      ],
      "metadata": {
        "id": "ykl5n9eEm3We"
      },
      "execution_count": 2,
      "outputs": []
    },
    {
      "cell_type": "code",
      "source": [
        "transform = transforms.Compose(\n",
        "    [transforms.ToTensor()])"
      ],
      "metadata": {
        "id": "24sCDvONm6zk"
      },
      "execution_count": 3,
      "outputs": []
    },
    {
      "cell_type": "code",
      "source": [
        "trainset = torchvision.datasets.MNIST(root='./data', train=True,\n",
        "                                        download=True, transform=transform)\n",
        "valset = torchvision.datasets.MNIST(root='./data', train=False,\n",
        "                                        download=True, transform=transform)"
      ],
      "metadata": {
        "colab": {
          "base_uri": "https://localhost:8080/"
        },
        "id": "CciVFSTlm9Ed",
        "outputId": "487c782e-2057-4461-c4bd-8e68f25d6545"
      },
      "execution_count": 4,
      "outputs": [
        {
          "output_type": "stream",
          "name": "stderr",
          "text": [
            "100%|██████████| 9.91M/9.91M [00:00<00:00, 40.5MB/s]\n",
            "100%|██████████| 28.9k/28.9k [00:00<00:00, 1.08MB/s]\n",
            "100%|██████████| 1.65M/1.65M [00:00<00:00, 9.89MB/s]\n",
            "100%|██████████| 4.54k/4.54k [00:00<00:00, 9.91MB/s]\n"
          ]
        }
      ]
    },
    {
      "cell_type": "code",
      "source": [
        "train_data = dataloader.DataLoader(trainset,shuffle=True,batch_size=batch_size)\n",
        "val_data = dataloader.DataLoader(valset,shuffle=True,batch_size=batch_size)"
      ],
      "metadata": {
        "id": "6Y_2CfuBnQBb"
      },
      "execution_count": 5,
      "outputs": []
    },
    {
      "cell_type": "code",
      "source": [
        "#Part1 of Vision Transformer Architecture\n",
        "\n",
        "class PatchEmbedding(nn.Module):\n",
        "  def __init__(self):\n",
        "    super().__init__()\n",
        "    self.patch_embed = nn.Conv2d(num_channels,embed_dim,kernel_size=patch_size,stride=patch_size)\n",
        "\n",
        "  def forward(self, x):\n",
        "      return self.patch_embed(x).flatten(2).transpose(1,2)"
      ],
      "metadata": {
        "id": "flOyPj0aqKwC"
      },
      "execution_count": 6,
      "outputs": []
    },
    {
      "cell_type": "code",
      "source": [
        "images,labels = next(iter(train_data))\n",
        "images.shape"
      ],
      "metadata": {
        "colab": {
          "base_uri": "https://localhost:8080/"
        },
        "id": "JdNSLaQKsayG",
        "outputId": "6042f6e1-460f-4dc0-cb99-08e288327d49"
      },
      "execution_count": 7,
      "outputs": [
        {
          "output_type": "execute_result",
          "data": {
            "text/plain": [
              "torch.Size([64, 1, 28, 28])"
            ]
          },
          "metadata": {},
          "execution_count": 7
        }
      ]
    },
    {
      "cell_type": "code",
      "source": [
        "PatchEmbed = PatchEmbedding()\n",
        "\n",
        "PatchEmbed.forward(images).shape"
      ],
      "metadata": {
        "colab": {
          "base_uri": "https://localhost:8080/"
        },
        "id": "gGRRQZiisiFk",
        "outputId": "f301380b-4edb-4e3a-a5a3-6476b1b20c54"
      },
      "execution_count": 8,
      "outputs": [
        {
          "output_type": "execute_result",
          "data": {
            "text/plain": [
              "torch.Size([64, 16, 16])"
            ]
          },
          "metadata": {},
          "execution_count": 8
        }
      ]
    },
    {
      "cell_type": "code",
      "source": [
        "#TransformerArchitecture of ViT\n",
        "class TransformerArchitecture(nn.Module):\n",
        "  def __init__(self):\n",
        "    super().__init__()\n",
        "    self.layernorm1 = nn.LayerNorm(embed_dim)\n",
        "    self.self_attention = nn.MultiheadAttention(embed_dim,num_heads=attention_heads,dropout=0.2,batch_first=True)\n",
        "    self.layernorm2 = nn.LayerNorm(embed_dim)\n",
        "    self.mlp = nn.Sequential(\n",
        "        nn.Linear(embed_dim,mlp_dim),\n",
        "        nn.GELU(),\n",
        "        nn.Linear(mlp_dim,embed_dim)\n",
        "    )\n",
        "\n",
        "  def forward(self,x):\n",
        "    residual1 = x\n",
        "    x = self.self_attention(self.layernorm1(x),self.layernorm1(x),self.layernorm1(x))[0] + residual1\n",
        "    residual2 = x\n",
        "    x = self.mlp(self.layernorm2(x)) + residual2\n",
        "    return x"
      ],
      "metadata": {
        "id": "18Nec1rft7l5"
      },
      "execution_count": 9,
      "outputs": []
    },
    {
      "cell_type": "code",
      "source": [
        "class MLP_Head(nn.Module):\n",
        "  def __init__(self):\n",
        "    super().__init__()\n",
        "    self.layernorm1 = nn.LayerNorm(embed_dim)\n",
        "    self.mlphead = nn.Sequential(\n",
        "        #nn.Linear(embed_dim),\n",
        "        nn.Linear(embed_dim,num_classes)\n",
        "    )\n",
        "\n",
        "  def forward(self,x):\n",
        "    x = x[:,0] # only cls(classification token)\n",
        "    x = self.layernorm1(x)\n",
        "    x = self.mlphead(x)\n",
        "    return x"
      ],
      "metadata": {
        "id": "0J8o6gNAy58Z"
      },
      "execution_count": 10,
      "outputs": []
    },
    {
      "cell_type": "code",
      "source": [
        "class ViT(nn.Module):\n",
        "  def __init__(self):\n",
        "    super().__init__()\n",
        "    self.patch_embedding = PatchEmbedding()\n",
        "    self.position_embedding = nn.Parameter(torch.randn(1, (img_size // patch_size) ** 2 + 1, embed_dim))\n",
        "    self.cls_token = nn.Parameter(torch.randn(1,1,embed_dim))\n",
        "    self.transformer_blocks = nn.Sequential(*[TransformerArchitecture()for _ in  range(transformer_blocks)])\n",
        "    self.mlphead = MLP_Head()\n",
        "\n",
        "  def forward(self,x):\n",
        "    x = self.patch_embedding(x)\n",
        "    B = x.shape[0]\n",
        "    cls_tokens = self.cls_token.expand(B,-1,-1)\n",
        "    x = torch.cat((cls_tokens, x), dim=1)\n",
        "    x = x + self.position_embedding\n",
        "    x = self.transformer_blocks(x)\n",
        "    x = self.mlphead(x)\n",
        "    return x\n",
        ""
      ],
      "metadata": {
        "id": "lszSm3ZQz0EA"
      },
      "execution_count": 15,
      "outputs": []
    },
    {
      "cell_type": "code",
      "source": [
        "device = torch.device(\"cuda\" if torch.cuda.is_available else \"cpu\")\n",
        "\n",
        "model = ViT()\n",
        "learning_rate = 0.001\n",
        "\n",
        "optimizer = torch.optim.Adam(model.parameters(),lr = learning_rate)\n",
        "loss_func = nn.CrossEntropyLoss()\n",
        "\n",
        "epochs = 5"
      ],
      "metadata": {
        "id": "j4l-C0SL2VDW"
      },
      "execution_count": 16,
      "outputs": []
    },
    {
      "cell_type": "code",
      "source": [
        "for epoch in range(epochs):\n",
        "  model.to(device)\n",
        "  model.train()\n",
        "  total_loss = 0\n",
        "  correct_epoch = 0\n",
        "  total_epoch = 0\n",
        "  print(f\"\\nEpoch {epoch+1}\")\n",
        "  for batch_idx,(images,labels) in enumerate(train_data):\n",
        "    images,labels = images.to(device),labels.to(device)\n",
        "\n",
        "    optimizer.zero_grad()\n",
        "    pred = model(images)\n",
        "\n",
        "    loss = loss_func(pred,labels)\n",
        "    loss.backward()\n",
        "    optimizer.step()\n",
        "\n",
        "    total_loss+=loss.item()\n",
        "    preds = pred.argmax(dim=1)\n",
        "\n",
        "    correct = (preds==labels).sum().item()\n",
        "    accuracy = 100*correct/labels.size(0)\n",
        "\n",
        "    correct_epoch+=correct\n",
        "    total_epoch+=labels.size(0)\n",
        "\n",
        "    if batch_idx % 100 == 0:\n",
        "            print(f\"  Batch {batch_idx+1:3d}: Loss = {loss.item():.4f}, Accuracy = {accuracy:.2f}%\")\n",
        "\n",
        "  epoch_acc = 100.0 * correct_epoch / total_epoch\n",
        "  print(f\"==> Epoch {epoch+1} Summary: Total Loss = {total_loss:.4f}, Accuracy = {epoch_acc:.2f}%\")\n",
        "\n",
        "\n",
        "\n"
      ],
      "metadata": {
        "colab": {
          "base_uri": "https://localhost:8080/"
        },
        "id": "k-JSgsJm3KAT",
        "outputId": "9b1eba86-de97-4617-a613-160832ae86b3"
      },
      "execution_count": 17,
      "outputs": [
        {
          "output_type": "stream",
          "name": "stdout",
          "text": [
            "\n",
            "Epoch 1\n",
            "  Batch   1: Loss = 2.6598, Accuracy = 9.38%\n",
            "  Batch 101: Loss = 2.1420, Accuracy = 37.50%\n",
            "  Batch 201: Loss = 1.0989, Accuracy = 57.81%\n",
            "  Batch 301: Loss = 0.8072, Accuracy = 75.00%\n",
            "  Batch 401: Loss = 0.7455, Accuracy = 76.56%\n",
            "  Batch 501: Loss = 0.4745, Accuracy = 90.62%\n",
            "  Batch 601: Loss = 0.3835, Accuracy = 89.06%\n",
            "  Batch 701: Loss = 0.4381, Accuracy = 87.50%\n",
            "  Batch 801: Loss = 0.6100, Accuracy = 78.12%\n",
            "  Batch 901: Loss = 0.2092, Accuracy = 95.31%\n",
            "==> Epoch 1 Summary: Total Loss = 821.2191, Accuracy = 72.11%\n",
            "\n",
            "Epoch 2\n",
            "  Batch   1: Loss = 0.4814, Accuracy = 85.94%\n",
            "  Batch 101: Loss = 0.3426, Accuracy = 90.62%\n",
            "  Batch 201: Loss = 0.4636, Accuracy = 82.81%\n",
            "  Batch 301: Loss = 0.1362, Accuracy = 96.88%\n",
            "  Batch 401: Loss = 0.4963, Accuracy = 82.81%\n",
            "  Batch 501: Loss = 0.2438, Accuracy = 92.19%\n",
            "  Batch 601: Loss = 0.4423, Accuracy = 84.38%\n",
            "  Batch 701: Loss = 0.3008, Accuracy = 90.62%\n",
            "  Batch 801: Loss = 0.4404, Accuracy = 87.50%\n",
            "  Batch 901: Loss = 0.2989, Accuracy = 92.19%\n",
            "==> Epoch 2 Summary: Total Loss = 295.7105, Accuracy = 90.39%\n",
            "\n",
            "Epoch 3\n",
            "  Batch   1: Loss = 0.4709, Accuracy = 85.94%\n",
            "  Batch 101: Loss = 0.3795, Accuracy = 87.50%\n",
            "  Batch 201: Loss = 0.0962, Accuracy = 96.88%\n",
            "  Batch 301: Loss = 0.2883, Accuracy = 89.06%\n",
            "  Batch 401: Loss = 0.2478, Accuracy = 92.19%\n",
            "  Batch 501: Loss = 0.3497, Accuracy = 89.06%\n",
            "  Batch 601: Loss = 0.3722, Accuracy = 93.75%\n",
            "  Batch 701: Loss = 0.1196, Accuracy = 95.31%\n",
            "  Batch 801: Loss = 0.1238, Accuracy = 96.88%\n",
            "  Batch 901: Loss = 0.1541, Accuracy = 95.31%\n",
            "==> Epoch 3 Summary: Total Loss = 234.4544, Accuracy = 92.38%\n",
            "\n",
            "Epoch 4\n",
            "  Batch   1: Loss = 0.1113, Accuracy = 98.44%\n",
            "  Batch 101: Loss = 0.1141, Accuracy = 96.88%\n",
            "  Batch 201: Loss = 0.2696, Accuracy = 90.62%\n",
            "  Batch 301: Loss = 0.2714, Accuracy = 89.06%\n",
            "  Batch 401: Loss = 0.1042, Accuracy = 98.44%\n",
            "  Batch 501: Loss = 0.1540, Accuracy = 96.88%\n",
            "  Batch 601: Loss = 0.2039, Accuracy = 93.75%\n",
            "  Batch 701: Loss = 0.2351, Accuracy = 89.06%\n",
            "  Batch 801: Loss = 0.2992, Accuracy = 85.94%\n",
            "  Batch 901: Loss = 0.2293, Accuracy = 90.62%\n",
            "==> Epoch 4 Summary: Total Loss = 205.0659, Accuracy = 93.37%\n",
            "\n",
            "Epoch 5\n",
            "  Batch   1: Loss = 0.1459, Accuracy = 95.31%\n",
            "  Batch 101: Loss = 0.1442, Accuracy = 95.31%\n",
            "  Batch 201: Loss = 0.1041, Accuracy = 98.44%\n",
            "  Batch 301: Loss = 0.0742, Accuracy = 98.44%\n",
            "  Batch 401: Loss = 0.2146, Accuracy = 95.31%\n",
            "  Batch 501: Loss = 0.2029, Accuracy = 93.75%\n",
            "  Batch 601: Loss = 0.1731, Accuracy = 93.75%\n",
            "  Batch 701: Loss = 0.1512, Accuracy = 93.75%\n",
            "  Batch 801: Loss = 0.1159, Accuracy = 95.31%\n",
            "  Batch 901: Loss = 0.2471, Accuracy = 95.31%\n",
            "==> Epoch 5 Summary: Total Loss = 184.3549, Accuracy = 94.03%\n"
          ]
        }
      ]
    },
    {
      "cell_type": "code",
      "source": [
        "model.eval()\n",
        "correct = 0\n",
        "total = 0\n",
        "\n",
        "with torch.no_grad():\n",
        "    for images, labels in val_data:\n",
        "        images, labels = images.to(device), labels.to(device)\n",
        "        outputs = model(images)\n",
        "        preds = outputs.argmax(dim=1)\n",
        "        correct += (preds == labels).sum().item()\n",
        "        total += labels.size(0)\n",
        "\n",
        "test_acc = 100.0 * correct / total\n",
        "print(f\"\\n==> Val Accuracy: {test_acc:.2f}%\")\n"
      ],
      "metadata": {
        "colab": {
          "base_uri": "https://localhost:8080/"
        },
        "id": "Zx6b7xBE4hFE",
        "outputId": "c6a3681d-94f7-4f2c-9242-739e6ab33313"
      },
      "execution_count": 18,
      "outputs": [
        {
          "output_type": "stream",
          "name": "stdout",
          "text": [
            "\n",
            "==> Val Accuracy: 95.48%\n"
          ]
        }
      ]
    },
    {
      "cell_type": "code",
      "source": [
        "model.eval()\n",
        "images, labels = next(iter(val_data))\n",
        "images, labels = images.to(device), labels.to(device)\n",
        "\n",
        "with torch.no_grad():\n",
        "    outputs = model(images)\n",
        "    preds = outputs.argmax(dim=1)\n",
        "\n",
        "# Plot 10 test images with predictions\n",
        "plt.figure(figsize=(12, 4))\n",
        "for i in range(20):\n",
        "    plt.subplot(4, 5, i+1)\n",
        "    plt.imshow(images[i].squeeze().cpu(), cmap='gray')\n",
        "    plt.title(f\"Pred: {preds[i].item()}\\nTrue: {labels[i].item()}\")\n",
        "    plt.axis('off')\n",
        "plt.tight_layout()\n",
        "plt.show()"
      ],
      "metadata": {
        "colab": {
          "base_uri": "https://localhost:8080/",
          "height": 407
        },
        "id": "vxurpVb44ldc",
        "outputId": "bfb4b56b-5c3f-49ac-81d1-267677da60b3"
      },
      "execution_count": 21,
      "outputs": [
        {
          "output_type": "display_data",
          "data": {
            "text/plain": [
              "<Figure size 1200x400 with 20 Axes>"
            ],
            "image/png": "[encoded data removed]"
          },
          "metadata": {}
        }
      ]
    }
  ]
}