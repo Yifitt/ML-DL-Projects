{
  "nbformat": 4,
  "nbformat_minor": 0,
  "metadata": {
    "colab": {
      "provenance": []
    },
    "kernelspec": {
      "name": "python3",
      "display_name": "Python 3"
    },
    "language_info": {
      "name": "python"
    }
  },
  "cells": [
    {
      "cell_type": "code",
      "execution_count": 4,
      "metadata": {
        "id": "Oz8IPBEQt0-0"
      },
      "outputs": [],
      "source": [
        "import numpy as np\n",
        "import pandas as pd"
      ]
    },
    {
      "cell_type": "code",
      "source": [
        "class GaussianNB:\n",
        "  def __init__(self,alpha=1.0):\n",
        "    self.alpha = alpha\n",
        "\n",
        "  def fit(self,X,y):\n",
        "    X,y = np.asarray(X),np.asarray(y)\n",
        "    self.classes_ = np.unique(y)\n",
        "    n_classes,n_features= len(self.classes_),X.shape[1]\n",
        "\n",
        "    self.means_ = np.zeros((n_classes,n_features))\n",
        "    self.variances_ = np.zeros((n_classes,n_features))\n",
        "    self.priors_ = np.zeros(n_classes)\n",
        "\n",
        "    for idx,k in enumerate(self.classes_):\n",
        "      Xk = X[y==k]\n",
        "      self.means_[idx] = Xk.mean(axis=0)\n",
        "      self.variances_[idx] = Xk.var(axis=0)\n",
        "\n",
        "      #self.priors_[idx] = Xk.shape[0]/X.shape[0]\n",
        "\n",
        "      # We implement laplace smoothing instead\n",
        "      self.priors_[idx] = (Xk.shape[0] + self.alpha) / (X.shape[0] + self.alpha * n_classes)\n",
        "\n",
        "    return self\n",
        "\n",
        "\n",
        "  def _log_gaussian(self,X):\n",
        "    num = -0.5 * ((X[:,None,:] - self.means_)**2)/ (self.variances_ + 1e-9) # to make sure no zero division occurs\n",
        "    log_prob = num - 0.5* np.log(2*np.pi*self.variances_)\n",
        "\n",
        "    return log_prob.sum(axis=2) # features/columns\n",
        "\n",
        "\n",
        "  def predict(self,X):\n",
        "    X = np.asarray(X)\n",
        "\n",
        "    log_likelihood = self._log_gaussian(X)\n",
        "    log_prior = np.log(self.priors_)\n",
        "\n",
        "    return self.classes_[np.argmax(log_likelihood+log_prior,axis=1)] # classes/rows\n"
      ],
      "metadata": {
        "id": "FVb5sPpEzl1h"
      },
      "execution_count": 20,
      "outputs": []
    },
    {
      "cell_type": "code",
      "source": [
        "from sklearn.datasets import load_breast_cancer\n",
        "from sklearn.model_selection import train_test_split\n",
        "from sklearn.metrics import accuracy_score"
      ],
      "metadata": {
        "id": "g_JkutEG1v14"
      },
      "execution_count": 13,
      "outputs": []
    },
    {
      "cell_type": "code",
      "source": [
        "X,y = load_breast_cancer(return_X_y = True)"
      ],
      "metadata": {
        "id": "XT5s63fd17Be"
      },
      "execution_count": 21,
      "outputs": []
    },
    {
      "cell_type": "code",
      "source": [
        "X_train,X_test,y_train,y_test = train_test_split(X,y,stratify=y,random_state=42)"
      ],
      "metadata": {
        "id": "Uv_M4xyk1_DF"
      },
      "execution_count": 22,
      "outputs": []
    },
    {
      "cell_type": "code",
      "source": [
        "model = GaussianNB()"
      ],
      "metadata": {
        "id": "vBamoiI32GL0"
      },
      "execution_count": 23,
      "outputs": []
    },
    {
      "cell_type": "code",
      "source": [
        "model.fit(X_train,y_train)"
      ],
      "metadata": {
        "colab": {
          "base_uri": "https://localhost:8080/"
        },
        "id": "LGK6M7uU2IJc",
        "outputId": "36ea5c99-55b6-47a1-9f11-bdaa442568a2"
      },
      "execution_count": 24,
      "outputs": [
        {
          "output_type": "execute_result",
          "data": {
            "text/plain": [
              "<__main__.GaussianNB at 0x7b263d34cb00>"
            ]
          },
          "metadata": {},
          "execution_count": 24
        }
      ]
    },
    {
      "cell_type": "code",
      "source": [
        "y_pred = model.predict(X_test)"
      ],
      "metadata": {
        "id": "NUG51-XC2Lec"
      },
      "execution_count": 25,
      "outputs": []
    },
    {
      "cell_type": "code",
      "source": [
        "print(accuracy_score(y_pred,y_test))"
      ],
      "metadata": {
        "colab": {
          "base_uri": "https://localhost:8080/"
        },
        "id": "CE6DCdSR2QHs",
        "outputId": "3416c64b-87ad-41ce-da55-50c3535e5ace"
      },
      "execution_count": 27,
      "outputs": [
        {
          "output_type": "stream",
          "name": "stdout",
          "text": [
            "0.9370629370629371\n"
          ]
        }
      ]
    }
  ]
}