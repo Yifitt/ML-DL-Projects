{
  "nbformat": 4,
  "nbformat_minor": 0,
  "metadata": {
    "colab": {
      "provenance": []
    },
    "kernelspec": {
      "name": "python3",
      "display_name": "Python 3"
    },
    "language_info": {
      "name": "python"
    }
  },
  "cells": [
    {
      "cell_type": "code",
      "execution_count": 1,
      "metadata": {
        "id": "0XOwaX1MgTSa"
      },
      "outputs": [],
      "source": [
        "import numpy as np\n",
        "import matplotlib.pyplot as plt\n",
        "from collections import Counter\n",
        "\n",
        "def euclidean_distance(p,q):\n",
        "  return np.sqrt(np.sum((np.array(p)-np.array(q))**2))"
      ]
    },
    {
      "cell_type": "code",
      "source": [
        "class KNN:\n",
        "  def __init__(self,neighbors=3):\n",
        "    self.k = neighbors\n",
        "    self.points = None\n",
        "\n",
        "  def fit(self,points):\n",
        "    self.points = points\n",
        "\n",
        "  def predict(self,new_point):\n",
        "    distances = []\n",
        "\n",
        "    for category in self.points:\n",
        "      for point in self.points[category]:\n",
        "        distance = euclidean_distance(point,new_point)\n",
        "        distances.append([distance,category])\n",
        "\n",
        "    categories = [category[1] for category in sorted(distances)[:self.k]]\n",
        "    result = Counter(categories).most_common(1)[0][0]\n",
        "\n",
        "    return result\n"
      ],
      "metadata": {
        "id": "dq9TRL21g_9K"
      },
      "execution_count": 2,
      "outputs": []
    },
    {
      "cell_type": "code",
      "source": [
        "clf = KNN()"
      ],
      "metadata": {
        "id": "xvRm8eYuiOO1"
      },
      "execution_count": 3,
      "outputs": []
    },
    {
      "cell_type": "code",
      "source": [
        "from sklearn.datasets import load_iris\n",
        "from sklearn.model_selection import train_test_split\n",
        "\n",
        "iris = load_iris()\n",
        "\n",
        "X = iris.data\n",
        "y = iris.target\n",
        "class_names = iris.target_names\n",
        "\n",
        "# Split data\n",
        "X_train, X_test, y_train, y_test = train_test_split(X, y, test_size=0.3, random_state=42)\n",
        "\n",
        "# Converting Format\n",
        "def convert_to_category_format(X, y, class_names):\n",
        "    points = {}\n",
        "    for class_name in class_names:\n",
        "        points[class_name] = []\n",
        "\n",
        "    for point, label in zip(X, y):\n",
        "        class_name = class_names[label]\n",
        "        points[class_name].append(point.tolist())\n",
        "\n",
        "    return points\n",
        "\n",
        "train_points = convert_to_category_format(X_train, y_train, class_names)\n",
        "\n",
        "print(\"=== KNN IRIS CLASSIFIER ===\")\n",
        "print(f\"Training samples: {len(X_train)}\")\n",
        "print(f\"Test samples: {len(X_test)}\")\n",
        "print()\n",
        "\n",
        "# Test different k values\n",
        "for k in [1, 3, 5, 7]:\n",
        "    knn = KNN(neighbors=k)\n",
        "    knn.fit(train_points)\n",
        "\n",
        "    # Predict\n",
        "    predictions = [knn.predict(test_point.tolist()) for test_point in X_test]\n",
        "\n",
        "    # Calculate accuracy\n",
        "    correct = sum(1 for true, pred in zip(y_test, predictions) if class_names[true] == pred)\n",
        "\n",
        "    accuracy = correct / len(y_test)\n",
        "\n",
        "    print(f\"K={k}: {accuracy:.3f} accuracy ({correct}/{len(y_test)})\")\n",
        "\n",
        "print(\"\\nDone!\")\n"
      ],
      "metadata": {
        "colab": {
          "base_uri": "https://localhost:8080/"
        },
        "id": "_XrnJpbOi6H9",
        "outputId": "8485d656-75a1-42b8-a6bd-8f4447b5e78d"
      },
      "execution_count": 4,
      "outputs": [
        {
          "output_type": "stream",
          "name": "stdout",
          "text": [
            "=== KNN IRIS CLASSIFIER ===\n",
            "Training samples: 105\n",
            "Test samples: 45\n",
            "\n",
            "K=1: 1.000 accuracy (45/45)\n",
            "K=3: 1.000 accuracy (45/45)\n",
            "K=5: 1.000 accuracy (45/45)\n",
            "K=7: 1.000 accuracy (45/45)\n",
            "\n",
            "Done!\n"
          ]
        }
      ]
    },
    {
      "cell_type": "markdown",
      "source": [
        "# Harder Dataset\n"
      ],
      "metadata": {
        "id": "_0TBloMMkLg-"
      }
    },
    {
      "cell_type": "code",
      "source": [
        "from sklearn.datasets import load_wine\n",
        "\n",
        "wine = load_wine()\n",
        "X = wine.data\n",
        "y = wine.target\n",
        "class_names = wine.target_names\n",
        "\n",
        "X_train, X_test, y_train, y_test = train_test_split(X, y, test_size=0.3, random_state=42)\n",
        "\n",
        "train_points = convert_to_category_format(X_train, y_train, class_names)\n",
        "\n",
        "print(\"=== KNN WINE CLASSIFIER ===\")\n",
        "print(f\"Training samples: {len(X_train)}\")\n",
        "print(f\"Test samples: {len(X_test)}\")\n",
        "print()\n",
        "\n",
        "# Test different k values\n",
        "for k in [1, 3, 5, 7,11,13,15,]:\n",
        "    knn = KNN(neighbors=k)\n",
        "    knn.fit(train_points)\n",
        "\n",
        "    # Predict\n",
        "    predictions = [knn.predict(test_point.tolist()) for test_point in X_test]\n",
        "\n",
        "    # Calculate accuracy\n",
        "    correct = sum(1 for true, pred in zip(y_test, predictions) if class_names[true] == pred)\n",
        "\n",
        "    accuracy = correct / len(y_test)\n",
        "\n",
        "    print(f\"K={k}: {accuracy:.3f} accuracy ({correct}/{len(y_test)})\")\n",
        "\n",
        "print(\"\\nDone!\")\n"
      ],
      "metadata": {
        "colab": {
          "base_uri": "https://localhost:8080/"
        },
        "id": "ZTCg6lgAjoqR",
        "outputId": "a5de8e5a-4c11-43a9-f1bc-a5faffbfb702"
      },
      "execution_count": 11,
      "outputs": [
        {
          "output_type": "stream",
          "name": "stdout",
          "text": [
            "=== KNN WINE CLASSIFIER ===\n",
            "Training samples: 124\n",
            "Test samples: 54\n",
            "\n",
            "K=1: 0.796 accuracy (43/54)\n",
            "K=3: 0.741 accuracy (40/54)\n",
            "K=5: 0.741 accuracy (40/54)\n",
            "K=7: 0.741 accuracy (40/54)\n",
            "K=11: 0.741 accuracy (40/54)\n",
            "K=13: 0.759 accuracy (41/54)\n",
            "K=15: 0.759 accuracy (41/54)\n",
            "\n",
            "Done!\n"
          ]
        }
      ]
    },
    {
      "cell_type": "markdown",
      "source": [
        "# ANOTHER DATASET"
      ],
      "metadata": {
        "id": "c-9EQhTfkQT8"
      }
    },
    {
      "cell_type": "code",
      "source": [
        "from sklearn.datasets import load_breast_cancer\n",
        "cancer = load_breast_cancer()\n",
        "X = cancer.data\n",
        "y = cancer.target\n",
        "class_names = cancer.target_names\n",
        "\n",
        "X_train, X_test, y_train, y_test = train_test_split(X, y, test_size=0.3, random_state=42)\n",
        "\n",
        "train_points = convert_to_category_format(X_train, y_train, class_names)\n",
        "\n",
        "print(\"=== KNN Breast Cancer CLASSIFIER ===\")\n",
        "print(f\"Training samples: {len(X_train)}\")\n",
        "print(f\"Test samples: {len(X_test)}\")\n",
        "print()\n",
        "\n",
        "# Test different k values\n",
        "for k in [1, 3, 5, 7,11,13,15,]:\n",
        "    knn = KNN(neighbors=k)\n",
        "    knn.fit(train_points)\n",
        "\n",
        "    # Predict\n",
        "    predictions = [knn.predict(test_point.tolist()) for test_point in X_test]\n",
        "\n",
        "    # Calculate accuracy\n",
        "    correct = sum(1 for true, pred in zip(y_test, predictions) if class_names[true] == pred)\n",
        "\n",
        "    accuracy = correct / len(y_test)\n",
        "\n",
        "    print(f\"K={k}: {accuracy:.3f} accuracy ({correct}/{len(y_test)})\")\n",
        "\n",
        "print(\"\\nDone!\")\n"
      ],
      "metadata": {
        "colab": {
          "base_uri": "https://localhost:8080/"
        },
        "id": "P5mTVzKWkUr8",
        "outputId": "7a63a9f2-dc2c-4c84-c147-6748f57e3a1f"
      },
      "execution_count": 13,
      "outputs": [
        {
          "output_type": "stream",
          "name": "stdout",
          "text": [
            "=== KNN Breast Cancer CLASSIFIER ===\n",
            "Training samples: 398\n",
            "Test samples: 171\n",
            "\n",
            "K=1: 0.936 accuracy (160/171)\n",
            "K=3: 0.942 accuracy (161/171)\n",
            "K=5: 0.959 accuracy (164/171)\n",
            "K=7: 0.965 accuracy (165/171)\n",
            "K=11: 0.977 accuracy (167/171)\n",
            "K=13: 0.965 accuracy (165/171)\n",
            "K=15: 0.965 accuracy (165/171)\n",
            "\n",
            "Done!\n"
          ]
        }
      ]
    },
    {
      "cell_type": "code",
      "source": [],
      "metadata": {
        "id": "sr3YNuZulAFQ"
      },
      "execution_count": null,
      "outputs": []
    }
  ]
}